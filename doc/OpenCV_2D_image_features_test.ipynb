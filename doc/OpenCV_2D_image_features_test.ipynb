{
 "cells": [
  {
   "cell_type": "code",
   "execution_count": null,
   "metadata": {},
   "outputs": [],
   "source": [
    "%matplotlib inline\n",
    "import cv2\n",
    "import numpy as np\n",
    "import matplotlib.pyplot as plt\n",
    "\n",
    "# load image\n",
    "img = cv2.imread('frame0007.jpg')\n",
    "\n",
    "# crop image\n",
    "#img = img[330:330+173, 24:24+830]\n",
    "\n",
    "# create gray image\n",
    "gray= cv2.cvtColor(img,cv2.COLOR_BGR2GRAY)\n",
    "\n",
    "# show cropped image\n",
    "plt.imshow(img)"
   ]
  },
  {
   "cell_type": "code",
   "execution_count": null,
   "metadata": {},
   "outputs": [],
   "source": [
    "# KAZE\n",
    "kaze = cv2.KAZE_create()\n",
    "kp_kaze = kaze.detect(gray, None)\n",
    "img_kaze = img.copy()\n",
    "cv2.drawKeypoints(img, kp_kaze, img_kaze);"
   ]
  },
  {
   "cell_type": "code",
   "execution_count": null,
   "metadata": {},
   "outputs": [],
   "source": [
    "# ORB\n",
    "orb = cv2.ORB_create()\n",
    "kp_orb = orb.detect(img, None)\n",
    "img_orb = img.copy()\n",
    "cv2.drawKeypoints(img, kp_orb, img_orb);"
   ]
  },
  {
   "cell_type": "code",
   "execution_count": null,
   "metadata": {},
   "outputs": [],
   "source": [
    "# AKAZE\n",
    "akaze = cv2.AKAZE_create()\n",
    "kp_akaze = akaze.detect(img, None)\n",
    "img_akaze = img.copy()\n",
    "cv2.drawKeypoints(img, kp_akaze, img_akaze);"
   ]
  },
  {
   "cell_type": "code",
   "execution_count": null,
   "metadata": {},
   "outputs": [],
   "source": [
    "# FAST\n",
    "fast = cv2.FastFeatureDetector_create()\n",
    "kp_fast = fast.detect(img, None)\n",
    "img_fast = img.copy()\n",
    "cv2.drawKeypoints(img, kp_fast, img_fast);"
   ]
  },
  {
   "cell_type": "code",
   "execution_count": null,
   "metadata": {},
   "outputs": [],
   "source": [
    "# BRISK\n",
    "brisk = cv2.BRISK_create()\n",
    "kp_brisk = brisk.detect(img, None)\n",
    "img_brisk = img.copy()\n",
    "cv2.drawKeypoints(img, kp_brisk, img_brisk);"
   ]
  },
  {
   "cell_type": "code",
   "execution_count": null,
   "metadata": {},
   "outputs": [],
   "source": [
    "# MSER\n",
    "mser = cv2.MSER_create()\n",
    "kp_mser = mser.detect(gray, None)\n",
    "img_mser = img.copy()\n",
    "cv2.drawKeypoints(img, kp_mser, img_mser);"
   ]
  },
  {
   "cell_type": "code",
   "execution_count": null,
   "metadata": {},
   "outputs": [],
   "source": [
    "# SIFT\n",
    "sift = cv2.xfeatures2d.SIFT_create()\n",
    "kp_sift = sift.detect(gray, None)\n",
    "img_sift = img.copy()\n",
    "cv2.drawKeypoints(img, kp_sift, img_sift);"
   ]
  },
  {
   "cell_type": "code",
   "execution_count": null,
   "metadata": {},
   "outputs": [],
   "source": [
    "# SURF\n",
    "surf = cv2.xfeatures2d.SURF_create()\n",
    "kp_surf = surf.detect(gray, None)\n",
    "img_surf = img.copy()\n",
    "cv2.drawKeypoints(img, kp_surf, img_surf);"
   ]
  },
  {
   "cell_type": "code",
   "execution_count": null,
   "metadata": {
    "scrolled": true
   },
   "outputs": [],
   "source": [
    "f, axarr = plt.subplots(4,2, figsize=(30,30))\n",
    "\n",
    "axarr[0, 0].imshow(img_kaze)\n",
    "axarr[0, 0].set_title('KAZE')\n",
    "axarr[0, 1].imshow(img_orb)\n",
    "axarr[0, 1].set_title('ORB')\n",
    "axarr[1, 0].imshow(img_akaze)\n",
    "axarr[1, 0].set_title('AKAZE')\n",
    "axarr[1, 1].imshow(img_fast)\n",
    "axarr[1, 1].set_title('FAST')\n",
    "axarr[2, 0].imshow(img_brisk)\n",
    "axarr[2, 0].set_title('BRISK')\n",
    "axarr[2, 1].imshow(img_mser)\n",
    "axarr[2, 1].set_title('MSER')\n",
    "axarr[3, 0].imshow(img_sift)\n",
    "axarr[3, 0].set_title('SIFT')\n",
    "axarr[3, 1].imshow(img_surf)\n",
    "axarr[3, 1].set_title('SURF')"
   ]
  },
  {
   "cell_type": "code",
   "execution_count": null,
   "metadata": {},
   "outputs": [],
   "source": []
  },
  {
   "cell_type": "code",
   "execution_count": null,
   "metadata": {},
   "outputs": [],
   "source": []
  }
 ],
 "metadata": {
  "kernelspec": {
   "display_name": "Python 3",
   "language": "python",
   "name": "python3"
  },
  "language_info": {
   "codemirror_mode": {
    "name": "ipython",
    "version": 3
   },
   "file_extension": ".py",
   "mimetype": "text/x-python",
   "name": "python",
   "nbconvert_exporter": "python",
   "pygments_lexer": "ipython3",
   "version": "3.5.2"
  }
 },
 "nbformat": 4,
 "nbformat_minor": 2
}
